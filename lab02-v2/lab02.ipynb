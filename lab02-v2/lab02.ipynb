{
 "cells": [
  {
   "cell_type": "markdown",
   "metadata": {},
   "source": [
    "# Relational Databases\n",
    "\n",
    "DBs play an important role in today's software solutions. All the data applications need or collect from users needs to go somewhere. DBs provide a scalable and reliable mechanism for storing and accessing the data in a consistent way. \n",
    "\n",
    "In this lab we will work with relational DBs.\n",
    "\n",
    "## Requirements\n",
    "- Python 3.x\n",
    "- PostgreSQL (<https://www.postgresql.org/>)\n",
    "- psycopg2 (Postgres library for Python) (<https://pypi.org/project/psycopg2/>)\n",
    "- Pandas\n",
    "- Docker Engine (<https://docs.docker.com/engine/install/>)\n",
    "- Docker Compose (<https://docs.docker.com/compose/install/>)\n",
    "\n",
    "\n",
    "We will work with containers. If you are not familiar with the concept do not worry, they are very similar to virtual machines. For this course we chose Docker Engine as our container platform.\n",
    "\n"
   ]
  },
  {
   "cell_type": "markdown",
   "metadata": {},
   "source": [
    "After installation, we recommend following up on the post-installation steps if you are running on Linux (<https://docs.docker.com/engine/install/linux-postinstall/>), *Manage Docker* as a non-root user and *Configure Docker* to start the docker service on boot (with systemctl).\n",
    "\n",
    "You can now run the hello-world container to confirm everything works.\n",
    "```\n",
    "sudo docker run hello-world\n",
    "```\n",
    "\n",
    "## Relational databases\n",
    "\n",
    "### Setting up the postgres container\n",
    "Get a Postgres container image from the Docker registry (<https://hub.docker.com/_/postgres>)\n",
    "```\n",
    "docker pull postgres\n",
    "```\n",
    "\n",
    "Create the container and start it with: \n",
    "```\n",
    "docker run --name bda-postgres -e POSTGRES_PASSWORD=pass1234 -d -p 5432:5432 postgres \n",
    "```\n",
    "\n",
    "Verify the container is running with:\n",
    "```\n",
    "docker ps\n",
    "```\n",
    "\n",
    "And you should see something like:\n",
    "```\n",
    "CONTAINER ID        IMAGE               COMMAND                  CREATED             STATUS              PORTS                    NAMES\n",
    "c52d12b8b2f6        postgres            \"docker-entrypoint.s…\"   2 minutes ago        Up 2 minutes        0.0.0.0:5432->5432/tcp   bda-postgres\n",
    "```\n",
    "Notice the ports column, Docker is mapping the port 5432 on localhost to the container's port. This means that to reach the DB we just need to connect to localhost:5432.\n",
    "\n",
    "From now on, you can start and stop the container simply with:\n",
    "```\n",
    "docker start bda-postgres\n",
    "```\n",
    "\n",
    "```\n",
    "docker stop bda-postgres\n",
    "```\n",
    "\n",
    "### Troubleshooting\n",
    "pgAdmin is a UI tool that will allow you to visualize the state of the DB at any time. Feel free to use it to monitor your progress as you create the tables and load the data."
   ]
  },
  {
   "cell_type": "markdown",
   "metadata": {},
   "source": [
    "### Setting up the connection\n",
    "We will use the *psycopg2* database adapter."
   ]
  },
  {
   "cell_type": "code",
   "execution_count": 4,
   "metadata": {},
   "outputs": [
    {
     "name": "stdout",
     "output_type": "stream",
     "text": [
      "Success connecting to the DB\n"
     ]
    }
   ],
   "source": [
    "# uncomment to install\n",
    "# import sys\n",
    "# !{sys.executable} -m pip install psycopg2\n",
    "\n",
    "import psycopg2\n",
    "\n",
    "\n",
    "try:\n",
    "    conn = psycopg2.connect(\"dbname='postgres' user='postgres' host='localhost' password='pass1234'\")\n",
    "    print('Success connecting to the DB')\n",
    "except:\n",
    "    print('I am unable to connect to the database')"
   ]
  },
  {
   "attachments": {
    "imagen.png": {
     "image/png": "[encoded data removed]"
    }
   },
   "cell_type": "markdown",
   "metadata": {},
   "source": [
    "## The office dataset\n",
    "\n",
    "When we are designing how to store our data in a relational database, we usually start with a UML diagram modeling classes and their relationships.\n",
    "\n",
    "![](attachment:imagen.png)\n",
    "\n",
    "Then, we apply a set of rules to transform these entities into database tables, thus mapping the classes and their directed relationships.\n",
    "\n",
    "*departments*:\n",
    "\n",
    "| dpt_id | name | budget | expenses |\n",
    "| ------ | ---- | ------ | -------- |\n",
    "| 1 | sales | 50000| 100000|\n",
    "| 2 | shipping | 10000 | 5000|\n",
    "\n",
    "*projects*:\n",
    "\n",
    "| prj_id | name | budget | end |\n",
    "| ------ | ---- | ------ | --- |\n",
    "| 1      | al-34 | 1000000 | 11/12/2030|\n",
    "| 2      | zk-24 | 5000000 | 05/12/2019|\n",
    "\n",
    "*employees*:\n",
    "\n",
    "| emp_id | name | salary |city | dpt_id | prj_id\n",
    "| ------ | ---- | ------ | --- | --- | --- |\n",
    "| 1 | Jane Doe | 60000 | ROME | 1 | 1 |\n",
    "| 2 | John Smith | 40000 | BERLIN | 2 | 2 |\n",
    "\n",
    "Notice that in the employees table we added the id of the department and the project, so that for we can see that information for every employee. This is what is commonly known as foreign keys.\n",
    "\n",
    "A primary key is the employee id, which cannot be null and cannot be repeated; it is the object identifier.\n",
    "\n",
    "The code below creates the tables in the DB:"
   ]
  },
  {
   "cell_type": "code",
   "execution_count": 5,
   "metadata": {},
   "outputs": [],
   "source": [
    "cursor = conn.cursor()\n",
    "try:\n",
    "    cursor.execute(\"\"\"CREATE TABLE PROJECTS (\n",
    "                        prj_id INTEGER, \n",
    "                        \"name\" VARCHAR(45) NOT NULL, \n",
    "                        budget INTEGER, \n",
    "                        \"end\" DATE, \n",
    "                        PRIMARY KEY(prj_id))\"\"\")\n",
    "    \n",
    "    cursor.execute(\"\"\"CREATE TABLE DEPARTMENTS (\n",
    "                        dpt_id INTEGER, \n",
    "                        \"name\" VARCHAR(45) NOT NULL, \n",
    "                        budget INTEGER, \n",
    "                        expenses INTEGER, \n",
    "                        PRIMARY KEY(dpt_id))\"\"\")\n",
    "\n",
    "    cursor.execute(\"\"\"CREATE TABLE EMPLOYEES (\n",
    "                        emp_id INTEGER, \n",
    "                        \"name\" VARCHAR(45) NOT NULL, \n",
    "                        salary FLOAT, \n",
    "                        city VARCHAR(45), \n",
    "                        dpt_id INTEGER, \n",
    "                        prj_id INTEGER,\n",
    "                        PRIMARY KEY(emp_id),\n",
    "                        CONSTRAINT fk_project \n",
    "                            FOREIGN KEY(prj_id) REFERENCES PROJECTS(prj_id),\n",
    "                        CONSTRAINT fk_department\n",
    "                            FOREIGN KEY(dpt_id) REFERENCES DEPARTMENTS(dpt_id))\"\"\")     \n",
    "    conn.commit()\n",
    "except Exception as e:\n",
    "    # if the transaction aborts we will need to rollback\n",
    "    cursor.execute(\"ROLLBACK\")\n",
    "    print(e)"
   ]
  },
  {
   "cell_type": "markdown",
   "metadata": {},
   "source": [
    "Something to remember while you experiment with a DB is that if the transaction you are trying to execute fails, you will have to execute a ROLLBACK as we do above. For optimization reasons, the DB performs the updates in memory so if we want to commit our changes to disk, we will need to execute a commit on the connection object.\n",
    "\n",
    "Now we will load the following datasets in CSV format [departments](./files/company/departments.txt), [projects](./files/company/projects.txt) and [employees](./files/company/employees.txt) into the DB. When loading datasets, it is better to load in bulk than to insert row by row (sample by sample)."
   ]
  },
  {
   "cell_type": "code",
   "execution_count": 6,
   "metadata": {},
   "outputs": [],
   "source": [
    "with open('./files/company/departments.txt', 'r') as f:\n",
    "    cursor.copy_from(f, 'departments', sep=',')\n",
    "with open('./files/company/projects.txt', 'r') as f:\n",
    "     cursor.copy_from(f, 'projects', sep=',')\n",
    "with open('./files/company/employees.txt', 'r', encoding='utf-8') as f:\n",
    "    cursor.copy_from(f, 'employees', sep=',')\n",
    "conn.commit()"
   ]
  },
  {
   "cell_type": "markdown",
   "metadata": {},
   "source": [
    "At this point we have successfully set-up the DB and loaded the dataset. We can start the analysis."
   ]
  },
  {
   "cell_type": "markdown",
   "metadata": {},
   "source": [
    "## Selecting data\n",
    "SQL is the language we use to interact with a DB. We have already seen some examples when we created the tables, but now we are going to focus on retrieving information. \n",
    "\n",
    "* Select all employees:"
   ]
  },
  {
   "cell_type": "code",
   "execution_count": 7,
   "metadata": {},
   "outputs": [
    {
     "name": "stdout",
     "output_type": "stream",
     "text": [
      "[(0, 'Wiley Henry', 69682.0, 'San Antonella', 0, 0), (1, 'Marlin Suiter', 87824.0, 'West Tommyton', 0, 0), (2, 'Jennifer Peters', 96745.0, 'Guipúzcoa', 0, 0), (3, 'Donna Paige', 31996.0, 'Lleida', 0, 0)]\n"
     ]
    }
   ],
   "source": [
    "cursor.execute(\"\"\"SELECT * FROM EMPLOYEES\"\"\")\n",
    "rows = cursor.fetchall()\n",
    "print(rows[0:4])"
   ]
  },
  {
   "cell_type": "markdown",
   "metadata": {},
   "source": [
    "* Select a subset of columns:"
   ]
  },
  {
   "cell_type": "code",
   "execution_count": 8,
   "metadata": {},
   "outputs": [
    {
     "name": "stdout",
     "output_type": "stream",
     "text": [
      "[('Wiley Henry', 'San Antonella'), ('Marlin Suiter', 'West Tommyton'), ('Jennifer Peters', 'Guipúzcoa'), ('Donna Paige', 'Lleida')]\n"
     ]
    }
   ],
   "source": [
    "cursor.execute(\"\"\"SELECT \"name\", city FROM EMPLOYEES\"\"\")\n",
    "rows = cursor.fetchall()\n",
    "print(rows[0:4])"
   ]
  },
  {
   "cell_type": "markdown",
   "metadata": {},
   "source": [
    "* Filter by condition:"
   ]
  },
  {
   "cell_type": "code",
   "execution_count": 52,
   "metadata": {},
   "outputs": [
    {
     "name": "stdout",
     "output_type": "stream",
     "text": [
      "[('Marlin Suiter', 'West Tommyton'), ('Jennifer Peters', 'Guipúzcoa'), ('Carma Parman', 'Scalera ligure'), ('Derek Pace', 'Hernandezburgh')]\n"
     ]
    }
   ],
   "source": [
    "cursor.execute(\"\"\"SELECT \"name\", city FROM EMPLOYEES WHERE salary > 70000\"\"\")\n",
    "rows = cursor.fetchall()\n",
    "print(rows[0:4])"
   ]
  },
  {
   "cell_type": "markdown",
   "metadata": {},
   "source": [
    "* Combination of filters (get the employees with dpt_id different than 0, with a city starting with M or equal to Palencia, Cookton or Rachelburg, with name not null and salary between 50k and 60k):"
   ]
  },
  {
   "cell_type": "code",
   "execution_count": 3,
   "metadata": {},
   "outputs": [
    {
     "name": "stdout",
     "output_type": "stream",
     "text": [
      "[('Kim Shelton', 'Málaga'), ('Gary Sherrill', 'Melilla'), ('James Gibbs', 'Michaelport'), ('Shaniqua Sherrell', 'Milanesi sardo')]\n"
     ]
    }
   ],
   "source": [
    "cursor.execute(\"\"\"SELECT \"name\", city FROM EMPLOYEES \n",
    "                    WHERE NOT (dpt_id = 0) AND \n",
    "                    (\n",
    "                        city in ('Palencia', 'Cookton', 'Rachelburgh') OR\n",
    "                        city LIKE 'M%'\n",
    "                    ) AND \n",
    "                    \"name\" IS NOT NULL AND\n",
    "                    salary BETWEEN 50000 AND 60000\"\"\")\n",
    "rows = cursor.fetchall()\n",
    "print(rows[0:4])"
   ]
  },
  {
   "cell_type": "markdown",
   "metadata": {},
   "source": [
    "* Get all the different cities:"
   ]
  },
  {
   "cell_type": "code",
   "execution_count": 4,
   "metadata": {},
   "outputs": [
    {
     "name": "stdout",
     "output_type": "stream",
     "text": [
      "[('Kyleshire',), ('Comencini salentino',), ('Schneidershire',), ('Brandonhaven',)]\n"
     ]
    }
   ],
   "source": [
    "cursor.execute(\"\"\"SELECT DISTINCT city FROM EMPLOYEES\"\"\")\n",
    "rows = cursor.fetchall()\n",
    "print(rows[0:4])"
   ]
  },
  {
   "cell_type": "markdown",
   "metadata": {},
   "source": [
    "### Aggregation functions\n",
    "SUM, COUNT, MIN, MAX, AVG are functions that can be applied to a query to summarise results.\n",
    "\n",
    "* Count the number of different cities employees live in and what is the employees average salary:"
   ]
  },
  {
   "cell_type": "code",
   "execution_count": 12,
   "metadata": {},
   "outputs": [
    {
     "name": "stdout",
     "output_type": "stream",
     "text": [
      "[(2888, 49640.14355555556)]\n"
     ]
    }
   ],
   "source": [
    "cursor.execute(\"\"\"SELECT COUNT(DISTINCT city), AVG(salary) FROM EMPLOYEES\"\"\")\n",
    "rows = cursor.fetchall()\n",
    "print(rows)"
   ]
  },
  {
   "cell_type": "markdown",
   "metadata": {},
   "source": [
    "### Ordering\n",
    "* Select the employees with a department in 0-4 and order by descending salary and then by name"
   ]
  },
  {
   "cell_type": "code",
   "execution_count": 14,
   "metadata": {},
   "outputs": [
    {
     "name": "stdout",
     "output_type": "stream",
     "text": [
      "[(2128, 'John Hayes', 99940.0, 'Vegaport', 4, 25), (2458, 'James Familia', 99936.0, 'Cádiz', 4, 91), (2424, 'Dian Moore', 99762.0, 'Albacete', 4, 84), (109, 'Craig Hairston', 99420.0, 'Prodi salentino', 0, 21)]\n"
     ]
    }
   ],
   "source": [
    "cursor.execute(\"\"\"SELECT * FROM EMPLOYEES \n",
    "                  WHERE dpt_id IN(0,4)\n",
    "                  ORDER BY salary DESC, \"name\" \"\"\")\n",
    "rows = cursor.fetchall()\n",
    "print(rows[0:4])"
   ]
  },
  {
   "cell_type": "markdown",
   "metadata": {},
   "source": [
    "### Grouping\n",
    "GROUP BY can be used to group rows (samples) by column. For example:\n",
    "\n",
    "* Which city has the highest average salary?"
   ]
  },
  {
   "cell_type": "code",
   "execution_count": 28,
   "metadata": {},
   "outputs": [
    {
     "name": "stdout",
     "output_type": "stream",
     "text": [
      "[('Vegaport', 99940.0), (\"Colletti nell'emilia\", 99928.0), ('Sesto Cassandra', 99908.0), ('Howellberg', 99859.0), ('Quarto Silvia', 99839.0), ('South Amychester', 99783.0), ('West Vicki', 99745.0), ('Milo umbro', 99690.0), (\"Lucarelli nell'emilia\", 99686.0), ('Priceberg', 99564.0), ('West Ashleybury', 99559.0), ('East Taylor', 99534.0), ('Asmundo calabro', 99422.0), ('Prodi salentino', 99420.0), ('Chechi salentino', 99400.0), ('Natta salentino', 99282.0), ('Sheltonview', 99255.0), ('Michelleside', 99117.0), ('Quarto Tatiana', 99112.0), ('San Sebastiano', 99106.0)]\n"
     ]
    }
   ],
   "source": [
    "cursor.execute(\"\"\"SELECT city, AVG(salary) AS avgSalary FROM EMPLOYEES\n",
    "                GROUP BY city\n",
    "                ORDER BY avgSalary DESC\"\"\")\n",
    "rows = cursor.fetchall()\n",
    "print(rows[0:20])"
   ]
  },
  {
   "cell_type": "markdown",
   "metadata": {},
   "source": [
    "We can group results and filter groups with a condition. For example:\n",
    "* Which city with more than 5 employees has the highest average salary?"
   ]
  },
  {
   "cell_type": "code",
   "execution_count": 30,
   "metadata": {},
   "outputs": [
    {
     "name": "stdout",
     "output_type": "stream",
     "text": [
      "[('León', 60559.04347826087), ('Ciudad', 59690.380952380954), ('Cádiz', 59426.27777777778), ('Zamora', 58900.11111111111), ('Valladolid', 58872.32352941176), ('Lleida', 58844.375), ('Granada', 58084.03571428572), ('Ávila', 56527.142857142855), ('Lugo', 56337.944444444445), ('Asturias', 56045.05882352941), ('Jaén', 55850.114285714284), ('Tarragona', 55412.1875), ('Santa Cruz de Tenerife', 55367.24), ('Baleares', 54404.608695652176), ('Girona', 54366.81481481482), ('Guipúzcoa', 54109.0), ('Madrid', 53987.142857142855), ('Sevilla', 53173.857142857145), ('Barcelona', 52979.666666666664), ('Valencia', 52875.94594594595)]\n"
     ]
    }
   ],
   "source": [
    "cursor.execute(\"\"\"SELECT city, AVG(salary) AS avgSalary FROM EMPLOYEES\n",
    "                GROUP BY city\n",
    "                HAVING COUNT(city) > 5\n",
    "                ORDER BY avgSalary DESC\"\"\")\n",
    "rows = cursor.fetchall()\n",
    "print(rows[0:20])"
   ]
  },
  {
   "cell_type": "markdown",
   "metadata": {},
   "source": [
    "### Multiple tables\n",
    "There will be times where we will need to query data distributed over multiple tables. At this point, we will start executing our queries from Pandas, since the returned results are displayed in a dataframe and is easier to keep track of which fields belong to each table.\n",
    "\n",
    "Let's begin by joining the three tables together using dpt_id and prj_id as keys."
   ]
  },
  {
   "cell_type": "code",
   "execution_count": 9,
   "metadata": {},
   "outputs": [
    {
     "name": "stderr",
     "output_type": "stream",
     "text": [
      "/tmp/ipykernel_18140/480556971.py:6: UserWarning: pandas only supports SQLAlchemy connectable (engine/connection) or database string URI or sqlite3 DBAPI2 connection. Other DBAPI2 objects are not tested. Please consider using SQLAlchemy.\n",
      "  dat = sqlio.read_sql_query(sql, conn)\n"
     ]
    },
    {
     "data": {
      "text/html": [
       "<div>\n",
       "<style scoped>\n",
       "    .dataframe tbody tr th:only-of-type {\n",
       "        vertical-align: middle;\n",
       "    }\n",
       "\n",
       "    .dataframe tbody tr th {\n",
       "        vertical-align: top;\n",
       "    }\n",
       "\n",
       "    .dataframe thead th {\n",
       "        text-align: right;\n",
       "    }\n",
       "</style>\n",
       "<table border=\"1\" class=\"dataframe\">\n",
       "  <thead>\n",
       "    <tr style=\"text-align: right;\">\n",
       "      <th></th>\n",
       "      <th>emp_id</th>\n",
       "      <th>name</th>\n",
       "      <th>salary</th>\n",
       "      <th>city</th>\n",
       "      <th>dpt_id</th>\n",
       "      <th>prj_id</th>\n",
       "      <th>dpt_id</th>\n",
       "      <th>name</th>\n",
       "      <th>budget</th>\n",
       "      <th>expenses</th>\n",
       "      <th>prj_id</th>\n",
       "      <th>name</th>\n",
       "      <th>budget</th>\n",
       "      <th>end</th>\n",
       "    </tr>\n",
       "  </thead>\n",
       "  <tbody>\n",
       "    <tr>\n",
       "      <th>0</th>\n",
       "      <td>0</td>\n",
       "      <td>Wiley Henry</td>\n",
       "      <td>69682.0</td>\n",
       "      <td>San Antonella</td>\n",
       "      <td>0</td>\n",
       "      <td>0</td>\n",
       "      <td>0</td>\n",
       "      <td>sales</td>\n",
       "      <td>34431</td>\n",
       "      <td>79228</td>\n",
       "      <td>0</td>\n",
       "      <td>golden-myna</td>\n",
       "      <td>89627</td>\n",
       "      <td>2029-07-14</td>\n",
       "    </tr>\n",
       "    <tr>\n",
       "      <th>1</th>\n",
       "      <td>1</td>\n",
       "      <td>Marlin Suiter</td>\n",
       "      <td>87824.0</td>\n",
       "      <td>West Tommyton</td>\n",
       "      <td>0</td>\n",
       "      <td>0</td>\n",
       "      <td>0</td>\n",
       "      <td>sales</td>\n",
       "      <td>34431</td>\n",
       "      <td>79228</td>\n",
       "      <td>0</td>\n",
       "      <td>golden-myna</td>\n",
       "      <td>89627</td>\n",
       "      <td>2029-07-14</td>\n",
       "    </tr>\n",
       "    <tr>\n",
       "      <th>2</th>\n",
       "      <td>2</td>\n",
       "      <td>Jennifer Peters</td>\n",
       "      <td>96745.0</td>\n",
       "      <td>Guipúzcoa</td>\n",
       "      <td>0</td>\n",
       "      <td>0</td>\n",
       "      <td>0</td>\n",
       "      <td>sales</td>\n",
       "      <td>34431</td>\n",
       "      <td>79228</td>\n",
       "      <td>0</td>\n",
       "      <td>golden-myna</td>\n",
       "      <td>89627</td>\n",
       "      <td>2029-07-14</td>\n",
       "    </tr>\n",
       "    <tr>\n",
       "      <th>3</th>\n",
       "      <td>3</td>\n",
       "      <td>Donna Paige</td>\n",
       "      <td>31996.0</td>\n",
       "      <td>Lleida</td>\n",
       "      <td>0</td>\n",
       "      <td>0</td>\n",
       "      <td>0</td>\n",
       "      <td>sales</td>\n",
       "      <td>34431</td>\n",
       "      <td>79228</td>\n",
       "      <td>0</td>\n",
       "      <td>golden-myna</td>\n",
       "      <td>89627</td>\n",
       "      <td>2029-07-14</td>\n",
       "    </tr>\n",
       "    <tr>\n",
       "      <th>4</th>\n",
       "      <td>4</td>\n",
       "      <td>Carma Parman</td>\n",
       "      <td>88049.0</td>\n",
       "      <td>Scalera ligure</td>\n",
       "      <td>0</td>\n",
       "      <td>0</td>\n",
       "      <td>0</td>\n",
       "      <td>sales</td>\n",
       "      <td>34431</td>\n",
       "      <td>79228</td>\n",
       "      <td>0</td>\n",
       "      <td>golden-myna</td>\n",
       "      <td>89627</td>\n",
       "      <td>2029-07-14</td>\n",
       "    </tr>\n",
       "  </tbody>\n",
       "</table>\n",
       "</div>"
      ],
      "text/plain": [
       "   emp_id             name   salary            city  dpt_id  prj_id  dpt_id  \\\n",
       "0       0      Wiley Henry  69682.0   San Antonella       0       0       0   \n",
       "1       1    Marlin Suiter  87824.0   West Tommyton       0       0       0   \n",
       "2       2  Jennifer Peters  96745.0       Guipúzcoa       0       0       0   \n",
       "3       3      Donna Paige  31996.0          Lleida       0       0       0   \n",
       "4       4     Carma Parman  88049.0  Scalera ligure       0       0       0   \n",
       "\n",
       "    name  budget  expenses  prj_id         name  budget         end  \n",
       "0  sales   34431     79228       0  golden-myna   89627  2029-07-14  \n",
       "1  sales   34431     79228       0  golden-myna   89627  2029-07-14  \n",
       "2  sales   34431     79228       0  golden-myna   89627  2029-07-14  \n",
       "3  sales   34431     79228       0  golden-myna   89627  2029-07-14  \n",
       "4  sales   34431     79228       0  golden-myna   89627  2029-07-14  "
      ]
     },
     "execution_count": 9,
     "metadata": {},
     "output_type": "execute_result"
    }
   ],
   "source": [
    "import pandas as pd\n",
    "import pandas.io.sql as sqlio\n",
    "\n",
    "sql = \"SELECT * FROM EMPLOYEES e, DEPARTMENTS d, PROJECTS p \\\n",
    "       WHERE e.dpt_id=d.dpt_id AND e.prj_id=p.prj_id\"\n",
    "dat = sqlio.read_sql_query(sql, conn)\n",
    "\n",
    "dat.head()"
   ]
  },
  {
   "cell_type": "markdown",
   "metadata": {},
   "source": [
    "Notice how we have a collision in the *name* and *budget* columns. That is why it is a good idea to rename them in the query: "
   ]
  },
  {
   "cell_type": "code",
   "execution_count": 10,
   "metadata": {},
   "outputs": [
    {
     "name": "stderr",
     "output_type": "stream",
     "text": [
      "/tmp/ipykernel_18140/1137716923.py:7: UserWarning: pandas only supports SQLAlchemy connectable (engine/connection) or database string URI or sqlite3 DBAPI2 connection. Other DBAPI2 objects are not tested. Please consider using SQLAlchemy.\n",
      "  dat = sqlio.read_sql_query(sql, conn)\n"
     ]
    },
    {
     "data": {
      "text/html": [
       "<div>\n",
       "<style scoped>\n",
       "    .dataframe tbody tr th:only-of-type {\n",
       "        vertical-align: middle;\n",
       "    }\n",
       "\n",
       "    .dataframe tbody tr th {\n",
       "        vertical-align: top;\n",
       "    }\n",
       "\n",
       "    .dataframe thead th {\n",
       "        text-align: right;\n",
       "    }\n",
       "</style>\n",
       "<table border=\"1\" class=\"dataframe\">\n",
       "  <thead>\n",
       "    <tr style=\"text-align: right;\">\n",
       "      <th></th>\n",
       "      <th>emp_id</th>\n",
       "      <th>emp_name</th>\n",
       "      <th>emp_salary</th>\n",
       "      <th>emp_city</th>\n",
       "      <th>dept_name</th>\n",
       "      <th>dept_budget</th>\n",
       "      <th>dept_expenses</th>\n",
       "      <th>proj_name</th>\n",
       "      <th>proj_budget</th>\n",
       "      <th>proj_end</th>\n",
       "    </tr>\n",
       "  </thead>\n",
       "  <tbody>\n",
       "    <tr>\n",
       "      <th>0</th>\n",
       "      <td>0</td>\n",
       "      <td>Wiley Henry</td>\n",
       "      <td>69682.0</td>\n",
       "      <td>San Antonella</td>\n",
       "      <td>sales</td>\n",
       "      <td>34431</td>\n",
       "      <td>79228</td>\n",
       "      <td>golden-myna</td>\n",
       "      <td>89627</td>\n",
       "      <td>2029-07-14</td>\n",
       "    </tr>\n",
       "    <tr>\n",
       "      <th>1</th>\n",
       "      <td>1</td>\n",
       "      <td>Marlin Suiter</td>\n",
       "      <td>87824.0</td>\n",
       "      <td>West Tommyton</td>\n",
       "      <td>sales</td>\n",
       "      <td>34431</td>\n",
       "      <td>79228</td>\n",
       "      <td>golden-myna</td>\n",
       "      <td>89627</td>\n",
       "      <td>2029-07-14</td>\n",
       "    </tr>\n",
       "    <tr>\n",
       "      <th>2</th>\n",
       "      <td>2</td>\n",
       "      <td>Jennifer Peters</td>\n",
       "      <td>96745.0</td>\n",
       "      <td>Guipúzcoa</td>\n",
       "      <td>sales</td>\n",
       "      <td>34431</td>\n",
       "      <td>79228</td>\n",
       "      <td>golden-myna</td>\n",
       "      <td>89627</td>\n",
       "      <td>2029-07-14</td>\n",
       "    </tr>\n",
       "    <tr>\n",
       "      <th>3</th>\n",
       "      <td>3</td>\n",
       "      <td>Donna Paige</td>\n",
       "      <td>31996.0</td>\n",
       "      <td>Lleida</td>\n",
       "      <td>sales</td>\n",
       "      <td>34431</td>\n",
       "      <td>79228</td>\n",
       "      <td>golden-myna</td>\n",
       "      <td>89627</td>\n",
       "      <td>2029-07-14</td>\n",
       "    </tr>\n",
       "    <tr>\n",
       "      <th>4</th>\n",
       "      <td>4</td>\n",
       "      <td>Carma Parman</td>\n",
       "      <td>88049.0</td>\n",
       "      <td>Scalera ligure</td>\n",
       "      <td>sales</td>\n",
       "      <td>34431</td>\n",
       "      <td>79228</td>\n",
       "      <td>golden-myna</td>\n",
       "      <td>89627</td>\n",
       "      <td>2029-07-14</td>\n",
       "    </tr>\n",
       "  </tbody>\n",
       "</table>\n",
       "</div>"
      ],
      "text/plain": [
       "   emp_id         emp_name  emp_salary        emp_city dept_name  dept_budget  \\\n",
       "0       0      Wiley Henry     69682.0   San Antonella     sales        34431   \n",
       "1       1    Marlin Suiter     87824.0   West Tommyton     sales        34431   \n",
       "2       2  Jennifer Peters     96745.0       Guipúzcoa     sales        34431   \n",
       "3       3      Donna Paige     31996.0          Lleida     sales        34431   \n",
       "4       4     Carma Parman     88049.0  Scalera ligure     sales        34431   \n",
       "\n",
       "   dept_expenses    proj_name  proj_budget    proj_end  \n",
       "0          79228  golden-myna        89627  2029-07-14  \n",
       "1          79228  golden-myna        89627  2029-07-14  \n",
       "2          79228  golden-myna        89627  2029-07-14  \n",
       "3          79228  golden-myna        89627  2029-07-14  \n",
       "4          79228  golden-myna        89627  2029-07-14  "
      ]
     },
     "execution_count": 10,
     "metadata": {},
     "output_type": "execute_result"
    }
   ],
   "source": [
    "sql = \"SELECT e.emp_id, e.name as emp_name, e.salary as emp_salary, e.city as emp_city, \" \\\n",
    "      \"d.name as dept_name, d.budget as dept_budget, d.expenses as dept_expenses, \" \\\n",
    "      \"p.name as proj_name, p.budget as proj_budget, p.end as proj_end \" \\\n",
    "      \"FROM EMPLOYEES e, DEPARTMENTS d, PROJECTS p \\\n",
    "       WHERE e.dpt_id=d.dpt_id AND e.prj_id=p.prj_id\"\n",
    "\n",
    "dat = sqlio.read_sql_query(sql, conn)\n",
    "\n",
    "dat.head()"
   ]
  },
  {
   "attachments": {
    "imagen.png": {
     "image/png": "[encoded data removed]"
    }
   },
   "cell_type": "markdown",
   "metadata": {},
   "source": [
    "If you recall from the previous lab, we had four types of joins:\n",
    "![imagen.png](attachment:imagen.png)\n",
    "\n",
    "What we just did above is a left join on the Employees table. \n",
    "\n",
    "### Subqueries\n",
    "We can also combine multiple queries, one working over the results of the others.\n",
    "\n",
    "* Get all the employees whose salary is above average:"
   ]
  },
  {
   "cell_type": "code",
   "execution_count": 11,
   "metadata": {
    "scrolled": true
   },
   "outputs": [
    {
     "name": "stdout",
     "output_type": "stream",
     "text": [
      "[('Kristy Flander', 49646.0), ('Michael Thompson', 49657.0), ('Earnest Martin', 49687.0), ('Pamela Wilson', 49774.0), ('Gary Hannan', 49774.0), ('Charles Hicks', 49780.0), ('Ruben Hayes', 49803.0), ('Lowell Kryder', 49818.0), ('Larry Wyatt', 49838.0), ('Vivian Watson', 49847.0), ('Ava Carter', 49865.0), ('Connie Dean', 49891.0), ('Lois Brown', 49914.0), ('Daniel Loftin', 49959.0), ('Holly Fitzpatrick', 49976.0), ('Richard Figueroa', 49991.0), ('Major Eunice', 49997.0), ('John Lawrence', 50014.0), ('Gerald Mcwhite', 50041.0), ('Beatrice Jones', 50047.0)]\n"
     ]
    }
   ],
   "source": [
    "cursor.execute(\"\"\"SELECT \"name\", salary FROM EMPLOYEES\n",
    "                WHERE salary > \n",
    "                (\n",
    "                    SELECT AVG(salary) FROM EMPLOYEES\n",
    "                )\n",
    "                ORDER BY salary ASC\"\"\")\n",
    "rows = cursor.fetchall()\n",
    "print(rows[0:20])"
   ]
  },
  {
   "cell_type": "markdown",
   "metadata": {},
   "source": [
    "* Get all the employees whose salary is above their city average:"
   ]
  },
  {
   "cell_type": "code",
   "execution_count": 12,
   "metadata": {},
   "outputs": [
    {
     "name": "stdout",
     "output_type": "stream",
     "text": [
      "[('Jennifer Peters', 96745.0, 'Guipúzcoa', 54109.0), ('Mary Watterson', 66712.0, 'Settimo Gioele', 50218.5), ('Nancy Lloyd', 74157.0, 'Tarragona', 55412.1875), ('David Contrell', 92809.0, 'Murcia', 49879.8), ('Rickey Jarquin', 56792.0, 'Quarto Annalisa', 46090.5), ('Kimberly Blasko', 97428.0, 'León', 60559.04347826087), ('Seymour Healy', 94322.0, 'Scottmouth', 51735.0), ('Wayne Lee', 63417.0, 'Soria', 47809.269230769234), ('Gladys Thomas', 64810.0, 'Granada', 58084.03571428572), ('Elizabeth Smith', 95971.0, 'Santa Cruz de Tenerife', 55367.24), ('Adelaida Logan', 74004.0, 'Melilla', 47929.0), ('Jaclyn Mcconnell', 54065.0, 'Palencia', 40414.96666666667), ('Roslyn White', 78561.0, 'Cádiz', 59426.27777777778), ('Tom Leone', 95118.0, 'Asturias', 56045.05882352941), ('Amanda Monroe', 99174.0, 'Lleida', 58844.375), ('Maria Neal', 70931.0, 'Almería', 49135.6129032258), ('Chadwick Frisby', 89869.0, 'Jaén', 55850.114285714284), ('Joyce Medina', 53082.0, 'Cuenca', 46101.25), ('Teresa Durden', 54403.0, 'Las Palmas', 42265.37037037037), ('Mary Barnett', 88987.0, 'Ciudad', 59690.380952380954)]\n"
     ]
    }
   ],
   "source": [
    "cursor.execute(\"\"\"SELECT e1.\"name\", e1.salary, e1.city, cityavg.avgSalary \n",
    "                    FROM EMPLOYEES e1,\n",
    "                    (\n",
    "                        SELECT e2.city, AVG(e2.salary) AS avgSalary FROM EMPLOYEES e2 GROUP BY e2.city\n",
    "                    ) cityavg\n",
    "                    where e1.city=cityavg.city and \n",
    "                    e1.salary > cityavg.avgSalary\"\"\")\n",
    "\n",
    "rows = cursor.fetchall()\n",
    "print(rows[0:20])"
   ]
  },
  {
   "cell_type": "markdown",
   "metadata": {},
   "source": [
    "Notice how this time we used the subquery in the FROM section of the statement, and then we did a join with the employees table, adding for each employee what is the salary average of his city."
   ]
  },
  {
   "cell_type": "markdown",
   "metadata": {},
   "source": [
    "### Aggregation and joins: when things go wrong\n",
    "Consider the following query: for all the projects with a budget >= 50k, get the average project budget by city.\n",
    "\n",
    "Our first approach at solving this problem looked like this:"
   ]
  },
  {
   "cell_type": "code",
   "execution_count": 14,
   "metadata": {},
   "outputs": [
    {
     "name": "stdout",
     "output_type": "stream",
     "text": [
      "[('Zecchini del friuli', Decimal('67668.000000000000')), ('Zaragoza', Decimal('73154.000000000000')), ('Zamoramouth', Decimal('75680.000000000000')), ('Zamora', Decimal('77742.769230769231')), (\"Zaira nell'emilia\", Decimal('61777.000000000000')), ('Zacharymouth', Decimal('78680.000000000000')), (\"Zacco nell'emilia\", Decimal('51824.000000000000')), ('Zaccagnini calabro', Decimal('52819.000000000000')), ('Yumouth', Decimal('84296.000000000000')), ('Youngchester', Decimal('67235.000000000000')), ('Yangtown', Decimal('68914.000000000000')), ('Wrightton', Decimal('56985.000000000000')), ('Woodsville', Decimal('84296.000000000000')), ('Wilsonstad', Decimal('79534.000000000000')), ('Williamstad', Decimal('71803.000000000000')), ('Williamsonberg', Decimal('96067.000000000000')), ('Williamsmouth', Decimal('67235.000000000000')), ('Williamsland', Decimal('75780.000000000000')), ('Williamside', Decimal('96547.000000000000')), ('Williamshaven', Decimal('60930.000000000000'))]\n"
     ]
    }
   ],
   "source": [
    "cursor.execute(\"\"\"\n",
    "    SELECT e.city, AVG(p.budget) FROM EMPLOYEES e, projects p\n",
    "    WHERE p.budget  >= 50000 AND e.prj_id  = p.prj_id   \n",
    "    GROUP BY e.city\n",
    "    ORDER BY e.city desc \n",
    "\"\"\")\n",
    "rows = cursor.fetchall()\n",
    "print(rows[0:20])"
   ]
  },
  {
   "cell_type": "markdown",
   "metadata": {},
   "source": [
    "A result that looks correct. Let us focus on a single city."
   ]
  },
  {
   "cell_type": "code",
   "execution_count": 15,
   "metadata": {},
   "outputs": [
    {
     "data": {
      "text/plain": [
       "[('Salamanca', Decimal('74359.192307692308'))]"
      ]
     },
     "execution_count": 15,
     "metadata": {},
     "output_type": "execute_result"
    }
   ],
   "source": [
    "[row for row in rows if row[0] == 'Salamanca']"
   ]
  },
  {
   "cell_type": "markdown",
   "metadata": {},
   "source": [
    "Let's redo the query without the aggregation."
   ]
  },
  {
   "cell_type": "code",
   "execution_count": 16,
   "metadata": {},
   "outputs": [
    {
     "data": {
      "text/plain": [
       "[('Salamanca', 99180, 22),\n",
       " ('Salamanca', 93528, 86),\n",
       " ('Salamanca', 91384, 47),\n",
       " ('Salamanca', 90764, 96),\n",
       " ('Salamanca', 88759, 17),\n",
       " ('Salamanca', 88759, 17),\n",
       " ('Salamanca', 82489, 55),\n",
       " ('Salamanca', 82489, 55),\n",
       " ('Salamanca', 82489, 55),\n",
       " ('Salamanca', 81309, 75),\n",
       " ('Salamanca', 80104, 12),\n",
       " ('Salamanca', 74106, 40),\n",
       " ('Salamanca', 74015, 15),\n",
       " ('Salamanca', 71995, 87),\n",
       " ('Salamanca', 71803, 1),\n",
       " ('Salamanca', 71803, 1),\n",
       " ('Salamanca', 71803, 1),\n",
       " ('Salamanca', 68914, 48),\n",
       " ('Salamanca', 68914, 48),\n",
       " ('Salamanca', 60930, 68),\n",
       " ('Salamanca', 60930, 68),\n",
       " ('Salamanca', 58212, 38),\n",
       " ('Salamanca', 56739, 45),\n",
       " ('Salamanca', 56556, 82),\n",
       " ('Salamanca', 54403, 76),\n",
       " ('Salamanca', 50962, 61)]"
      ]
     },
     "execution_count": 16,
     "metadata": {},
     "output_type": "execute_result"
    }
   ],
   "source": [
    "cursor.execute(\"\"\"\n",
    "    SELECT e.city, p.budget, p.prj_id  FROM projects p, employees e\n",
    "    WHERE p.budget  >= 50000 AND p.prj_id = e.prj_id  AND e.city = 'Salamanca' \n",
    "    ORDER BY budget DESC\n",
    "\"\"\")\n",
    "cursor.fetchall()"
   ]
  },
  {
   "cell_type": "markdown",
   "metadata": {},
   "source": [
    "Notice that project id 17, 55, 1 and others are repeated in this list. When we aggregate, those repeated rows are going to affect the final result. The repetition actually comes from the join operation:"
   ]
  },
  {
   "cell_type": "code",
   "execution_count": 17,
   "metadata": {},
   "outputs": [
    {
     "data": {
      "text/plain": [
       "[(1, 'exotic-wallaby', 71803, datetime.date(2027, 11, 29))]"
      ]
     },
     "execution_count": 17,
     "metadata": {},
     "output_type": "execute_result"
    }
   ],
   "source": [
    "cursor.execute(\"\"\"\n",
    "    SELECT *  FROM projects p WHERE p.prj_id = 1\n",
    "\"\"\")\n",
    "cursor.fetchall()"
   ]
  },
  {
   "cell_type": "code",
   "execution_count": 18,
   "metadata": {},
   "outputs": [
    {
     "data": {
      "text/plain": [
       "[(3007, 'Glen Brown', 58995.0, 'Salamanca', 6, 1),\n",
       " (3507, 'Antonio Mcbride', 4222.0, 'Salamanca', 7, 1),\n",
       " (4009, 'Dolores Rumpf', 27823.0, 'Salamanca', 8, 1)]"
      ]
     },
     "execution_count": 18,
     "metadata": {},
     "output_type": "execute_result"
    }
   ],
   "source": [
    "cursor.execute(\"\"\"\n",
    "SELECT *  FROM employees e WHERE e.prj_id = 1 and e.city ='Salamanca'\n",
    "\"\"\")\n",
    "cursor.fetchall()"
   ]
  },
  {
   "cell_type": "markdown",
   "metadata": {},
   "source": [
    "The issue is that the join operation is repeating the information for every matched row. \n",
    "\n",
    "In order to fix this we need to remove duplicates before joining. "
   ]
  },
  {
   "cell_type": "code",
   "execution_count": 19,
   "metadata": {},
   "outputs": [
    {
     "data": {
      "text/plain": [
       "[('Salamanca', Decimal('74008.000000000000'))]"
      ]
     },
     "execution_count": 19,
     "metadata": {},
     "output_type": "execute_result"
    }
   ],
   "source": [
    "cursor.execute(\"\"\"\n",
    "    SELECT fcities.city, avg(p.budget) FROM projects p, \n",
    "    (\n",
    "        SELECT e.city, e.prj_id FROM employees e GROUP BY e.city, e.prj_id \n",
    "    ) fcities \n",
    "    WHERE p.budget >= 50000 AND p.prj_id = fcities.prj_id \n",
    "    GROUP BY fcities.city\n",
    "    ORDER BY fcities.city\n",
    "\"\"\")\n",
    "rows = cursor.fetchall()\n",
    "[row for row in rows if row[0] == 'Salamanca']"
   ]
  },
  {
   "cell_type": "markdown",
   "metadata": {},
   "source": [
    "### Indexes\n",
    "Sometimes, we will need to run queries that rely on columns which are not primary keys. In those cases, creating an index may help us speed the query. \n",
    "\n",
    "In the example below we select all the employees with a salary over 90k. We use Python's *timeit* library to execute it 10k times and take the average running time."
   ]
  },
  {
   "cell_type": "code",
   "execution_count": 20,
   "metadata": {},
   "outputs": [
    {
     "data": {
      "text/plain": [
       "3.688102272999913"
      ]
     },
     "execution_count": 20,
     "metadata": {},
     "output_type": "execute_result"
    }
   ],
   "source": [
    "import timeit\n",
    "\n",
    "def selection():\n",
    "    return cursor.execute(\"\"\"EXPLAIN ANALYZE SELECT \"name\" FROM EMPLOYEES WHERE salary > 90000\"\"\")\n",
    "\n",
    "timeit.timeit(selection, number=10000)"
   ]
  },
  {
   "cell_type": "markdown",
   "metadata": {},
   "source": [
    "Now let's see what happens if we define an index on the salary. For reference, btree is the default index option in Postgres and if you are interested there are plenty of details available out [there](https://en.wikipedia.org/wiki/B-tree). For now, we just need to know is a type of data structure that allows for fast searching."
   ]
  },
  {
   "cell_type": "code",
   "execution_count": 21,
   "metadata": {},
   "outputs": [],
   "source": [
    "cursor.execute(\"\"\"CREATE INDEX employee_salary_idx ON EMPLOYEES USING btree (salary)\"\"\")\n",
    "conn.commit()"
   ]
  },
  {
   "cell_type": "markdown",
   "metadata": {},
   "source": [
    "If we repeat re-run the query we will see it is slightly faster."
   ]
  },
  {
   "cell_type": "code",
   "execution_count": 22,
   "metadata": {},
   "outputs": [
    {
     "data": {
      "text/plain": [
       "2.2133748270002798"
      ]
     },
     "execution_count": 22,
     "metadata": {},
     "output_type": "execute_result"
    }
   ],
   "source": [
    "timeit.timeit(selection, number=10000)"
   ]
  },
  {
   "cell_type": "markdown",
   "metadata": {},
   "source": [
    "4 secons may not seem like much, but remember that we are working with a very small dataset (there are only 4500 employees)."
   ]
  },
  {
   "cell_type": "markdown",
   "metadata": {},
   "source": [
    "### When to use indexing\n",
    "Just for the sake of experimentation, let's re-run the same query but this time selecting employees with salaries > than 40k. "
   ]
  },
  {
   "cell_type": "code",
   "execution_count": 23,
   "metadata": {},
   "outputs": [
    {
     "data": {
      "text/plain": [
       "5.404414348000046"
      ]
     },
     "execution_count": 23,
     "metadata": {},
     "output_type": "execute_result"
    }
   ],
   "source": [
    "def selection():\n",
    "    return cursor.execute(\"\"\"EXPLAIN ANALYZE SELECT \"name\" FROM EMPLOYEES WHERE salary > 40000\"\"\")\n",
    "\n",
    "timeit.timeit(selection, number=10000)"
   ]
  },
  {
   "cell_type": "markdown",
   "metadata": {},
   "source": [
    "Notice how the execution time goes back up, just as before we created the index. What is going on? To find out open up a terminal if you are in Linux or a command line if you are in Windows and run:\n",
    "```\n",
    "psql\n",
    "```\n",
    "\n",
    "This will launch an interactive SQL session with the DB; default parameters are fine, you will just need to fill in the password.\n",
    "\n",
    "In the SQL prompt, we will use the EXPLAIN ANALYZE instruction to look at the *query plan* for each of those queries: \n",
    "\n",
    "```\n",
    "postgres=#  EXPLAIN ANALYZE SELECT * from employees WHERE salary > 40000;\n",
    "                                                 QUERY PLAN\n",
    "------------------------------------------------------------------------------------------------------------\n",
    " Seq Scan on employees  (cost=0.00..102.25 rows=2703 width=46) (actual time=0.011..0.590 rows=2706 loops=1)\n",
    "   Filter: (salary > '40000'::double precision)\n",
    "   Rows Removed by Filter: 1794\n",
    " Planning Time: 0.073 ms\n",
    " Execution Time: 0.717 ms\n",
    "```\n",
    "\n",
    "When we filter by salary > 40k, the filter removes 1794 rows (from 4500) and the DB does a sequential scan on the employees table.\n",
    "\n",
    "```\n",
    "postgres=#  EXPLAIN ANALYZE SELECT * from employees WHERE salary > 90000;\n",
    "                                                           QUERY PLAN\n",
    "---------------------------------------------------------------------------------------------------------------------------------\n",
    " Bitmap Heap Scan on employees  (cost=11.48..62.65 rows=413 width=46) (actual time=0.038..0.147 rows=414 loops=1)\n",
    "   Recheck Cond: (salary > '90000'::double precision)\n",
    "   Heap Blocks: exact=46\n",
    "   ->  Bitmap Index Scan on employee_salary_idx  (cost=0.00..11.38 rows=413 width=0) (actual time=0.028..0.028 rows=414 loops=1)\n",
    "         Index Cond: (salary > '90000'::double precision)\n",
    " Planning Time: 0.060 ms\n",
    " Execution Time: 0.179 ms\n",
    "```\n",
    "\n",
    "When we filter by salary > 90k, the DB uses the index and retrieves 414 rows.\n",
    "\n",
    "What we are seeing here is the result of the DB planning strategy. In addition to processing SQL statements to retrieve and update data, a DB engine also has a planning component that analyzes each statement and decides what is the best way to execute it. In Postgres, the planner will only use an index if it returns a small number of rows.    \n"
   ]
  },
  {
   "cell_type": "markdown",
   "metadata": {},
   "source": [
    "### Close the connection\n",
    "Always remember to close the connection when you are done."
   ]
  },
  {
   "cell_type": "code",
   "execution_count": 24,
   "metadata": {},
   "outputs": [],
   "source": [
    "conn.close()"
   ]
  },
  {
   "cell_type": "markdown",
   "metadata": {},
   "source": [
    "### Final  considerations\n",
    "If you are not very familiar with a DB language like SQL, you may be tempted to use it as little as possible, i.e., get the data out of the DB and manipulate it with Python or any other language you are comfortable with. We would like to advice against that. DBs are optimized to do what they do: they can leverage multi-threading, use data indexes to make computations faster and cache your results. Plus, in data analysis you never know how you are going to get your data, so being familiar with SQL will pay off."
   ]
  },
  {
   "cell_type": "markdown",
   "metadata": {},
   "source": [
    "# Exercise\n",
    "\n",
    "We will be working with the same dataset and questions we dealt with in the previous lab, so that you have some reference to work on (and check if your results match).\n",
    "\n",
    "We will use the [Adult UCI dataset](https://archive.ics.uci.edu/ml/datasets/adult) with a few modifications; download the following files: [description](./files/adults/adults.names), [data - part1](./files/adults/adults1.csv) [data - part2](./files/adults/adults2.csv).\n",
    "\n",
    "Follow the instructions below and answer the questions. \n",
    "\n",
    "1. Create the two tables in the DB with the right data dypes. In order to use enumerated types in the table definition you will first need to create the type. For example:\n",
    "\n",
    "```\n",
    "CREATE TYPE mood AS ENUM ('sad', 'ok', 'happy');\n",
    "CREATE TABLE person (\n",
    "    name text,\n",
    "    current_mood mood\n",
    ");\n",
    "INSERT INTO person VALUES ('Moe', 'happy');\n",
    "SELECT * FROM person WHERE current_mood = 'happy';\n",
    " name | current_mood \n",
    "------+--------------\n",
    " Moe  | happy\n",
    "```\n",
    "\n",
    "Notice that each row/sample does not have an id. Instead of using an INTEGER data type for the id, we recommend you look into SERIAL.\n",
    "\n",
    "2. Load the datasets. We should use this version of the copy_from command where we specify the name of the columns and the value for NULL in the file of origin. Notice how we are not specifying the id column, since that will be autogenerated by the DB. Caveat: once you have loaded the data, double check that the id/SERIAL column starts at 1. \n",
    "```\n",
    "cursor.copy_from(f, 'adults1', columns=('age', 'workclass', ...), sep=',', null='?')\n",
    "```\n",
    "3. How many people under 18 years old have never worked? Of the never having worked people (all ages) is there any race bias (how many by race)? Is there any sex bias? - Note: no need to elaborate, just present the data in tables. \n",
    "4. Look at the hours per week of people with a paying job, by sex. Look at how many's income is above and below 50k. Compare and analyse. - Note: no need to elaborate, produce a single table that shows the data for both sex and salary.\n",
    "5. How many people with college education do manual labour?\n",
    "6. What is the minimum, mean and maximum capital gain and capital loss for every marital status?"
   ]
  },
  {
   "cell_type": "code",
   "execution_count": null,
   "metadata": {},
   "outputs": [],
   "source": []
  }
 ],
 "metadata": {
  "kernelspec": {
   "display_name": "Python 3",
   "language": "python",
   "name": "python3"
  },
  "language_info": {
   "codemirror_mode": {
    "name": "ipython",
    "version": 3
   },
   "file_extension": ".py",
   "mimetype": "text/x-python",
   "name": "python",
   "nbconvert_exporter": "python",
   "pygments_lexer": "ipython3",
   "version": "3.12.3"
  },
  "varInspector": {
   "cols": {
    "lenName": 16,
    "lenType": 16,
    "lenVar": 40
   },
   "kernels_config": {
    "python": {
     "delete_cmd_postfix": "",
     "delete_cmd_prefix": "del ",
     "library": "var_list.py",
     "varRefreshCmd": "print(var_dic_list())"
    },
    "r": {
     "delete_cmd_postfix": ") ",
     "delete_cmd_prefix": "rm(",
     "library": "var_list.r",
     "varRefreshCmd": "cat(var_dic_list()) "
    }
   },
   "types_to_exclude": [
    "module",
    "function",
    "builtin_function_or_method",
    "instance",
    "_Feature"
   ],
   "window_display": false
  }
 },
 "nbformat": 4,
 "nbformat_minor": 2
}
